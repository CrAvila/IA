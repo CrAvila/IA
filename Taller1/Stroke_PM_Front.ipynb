{
  "nbformat": 4,
  "nbformat_minor": 0,
  "metadata": {
    "colab": {
      "provenance": [],
      "authorship_tag": "ABX9TyP+akn7YotnZci2bXIpisZh",
      "include_colab_link": true
    },
    "kernelspec": {
      "name": "python3",
      "display_name": "Python 3"
    },
    "language_info": {
      "name": "python"
    }
  },
  "cells": [
    {
      "cell_type": "markdown",
      "metadata": {
        "id": "view-in-github",
        "colab_type": "text"
      },
      "source": [
        "<a href=\"https://colab.research.google.com/github/CrAvila/IA/blob/main/Taller1/Stroke_PM_Front.ipynb\" target=\"_parent\"><img src=\"https://colab.research.google.com/assets/colab-badge.svg\" alt=\"Open In Colab\"/></a>"
      ]
    },
    {
      "cell_type": "code",
      "execution_count": null,
      "metadata": {
        "id": "pSYN5MDoGM3L"
      },
      "outputs": [],
      "source": [
        "!pip install gradio"
      ]
    },
    {
      "cell_type": "code",
      "source": [
        "import gradio as gr\n",
        "\n",
        "# Function to classify inputs from the user\n",
        "def classify_input(value, config):\n",
        "    ranges = config[\"ranges\"]\n",
        "    categories = config[\"categories\"]\n",
        "    for i, (start, end) in enumerate(ranges):\n",
        "        if start <= value < end:\n",
        "            return categories[i]\n",
        "    return categories[-1]"
      ],
      "metadata": {
        "id": "PqwM7ha9SjDw"
      },
      "execution_count": 6,
      "outputs": []
    },
    {
      "cell_type": "code",
      "source": [
        "\n",
        "from random import random\n",
        "\n",
        "# Events defined in the model\n",
        "events = {\n",
        "    \"quantitative\" : {\n",
        "\n",
        "        \"age\": {\n",
        "            \"ranges\" : [\n",
        "                (0,18),\n",
        "                (18,65),\n",
        "                (65, float('inf'))\n",
        "            ],\n",
        "\n",
        "            \"categories\" : [\n",
        "                'Child',\n",
        "                'Adult',\n",
        "                'Senior'\n",
        "            ]\n",
        "        },\n",
        "\n",
        "        \"avg_glucose_level\": {\n",
        "            \"ranges\" : [\n",
        "                (0,80),\n",
        "                (80,120),\n",
        "                (120, float('inf'))\n",
        "            ],\n",
        "\n",
        "            \"categories\" : [\n",
        "                'Low',\n",
        "                'Normal',\n",
        "                'High'\n",
        "            ]\n",
        "        },\n",
        "\n",
        "        \"bmi\": {\n",
        "            \"ranges\": [\n",
        "                (0,18.5),\n",
        "                (18.5, 25),\n",
        "                (25, float('inf'))\n",
        "            ],\n",
        "\n",
        "            \"categories\": [\n",
        "                'Underweight',\n",
        "                'Normal',\n",
        "                'Overweight',\n",
        "                'Unknown'\n",
        "            ]\n",
        "        }\n",
        "    }\n",
        "}\n",
        "\n",
        "\n",
        "variables_to_use = [\n",
        "    'age',\n",
        "    'avg_glucose_level',\n",
        "    'bmi',\n",
        "    'hypertension',\n",
        "    'heart_disease',\n",
        "]\n",
        "\n",
        "def get_probability(model, variables, input_data, events):\n",
        "\n",
        "    # Categorize the quantitative variables\n",
        "    def get_from_tree(variable, value, events):\n",
        "        if isinstance(value, str):\n",
        "            return value\n",
        "\n",
        "        if variable in events['quantitative']:\n",
        "            ranges = events['quantitative'][variable]['ranges']\n",
        "            categories = events['quantitative'][variable]['categories']\n",
        "            for i, (lower, upper) in enumerate(ranges):\n",
        "                if lower <= value < upper:\n",
        "                    return categories[i]\n",
        "        return value\n",
        "\n",
        "    # Create the tuple of tuples for the input\n",
        "    categorized_input = []\n",
        "    for variable, value in zip(variables, input_data):\n",
        "        categorized_value = get_from_tree(variable, value, events)\n",
        "        categorized_input.append(categorized_value)\n",
        "\n",
        "    input_tuple = tuple((variable, value) for variable, value in zip(variables,categorized_input))\n",
        "\n",
        "    # Specific for this model\n",
        "    key = input_tuple + (('stroke', 1),)\n",
        "\n",
        "    # Extract probability\n",
        "    probability = model[len(variables)][key]\n",
        "\n",
        "    return probability\n",
        "\n",
        "def get_stroke_risk(model, variables, input_data):\n",
        "    probability = get_probability(model, variables, input_data, events)\n",
        "    rgn = random()\n",
        "\n",
        "    risk = 0\n",
        "\n",
        "    if rgn < probability or probability > 0.05:\n",
        "        risk = 1\n",
        "\n",
        "    return risk, probability"
      ],
      "metadata": {
        "id": "uQaVFabrVk92"
      },
      "execution_count": 1,
      "outputs": []
    },
    {
      "cell_type": "code",
      "source": [
        "import requests\n",
        "import ast\n",
        "\n",
        "# Model is stored in an external Gist file, so we just need to import it.\n",
        "gist_raw_url = \"https://gist.githubusercontent.com/CrAvila/2bb2b00cc37bc4fc7d85b6e8773132b1/raw\"\n",
        "\n",
        "response = requests.get(gist_raw_url)\n",
        "if response.status_code == 200:\n",
        "    gist_content = response.text\n",
        "    gist_content = gist_content.strip()\n",
        "    model_content = gist_content[len(\"model=\"):]\n",
        "\n",
        "    # Use ast.literal_eval to safely evaluate the content as a dictionary\n",
        "    try:\n",
        "        model = ast.literal_eval(model_content)\n",
        "    except (ValueError, SyntaxError):\n",
        "        print(\"Error while evaluating Gist content as a dictionary.\")\n",
        "else:\n",
        "    print(\"Failed to fetch Gist content.\")"
      ],
      "metadata": {
        "id": "LDAFhl__jrLC"
      },
      "execution_count": 4,
      "outputs": []
    },
    {
      "cell_type": "code",
      "source": [
        "def predict_stroke(age, avg_glucose_average, bmi_value, bmi_known, hypertension, heart_disease):\n",
        "    # Classify the input features\n",
        "    age_category = classify_input(age, events[\"quantitative\"][\"age\"])\n",
        "    glucose_category = classify_input(avg_glucose_average, events[\"quantitative\"][\"avg_glucose_level\"])\n",
        "\n",
        "    bmi_config = events[\"quantitative\"][\"bmi\"]\n",
        "    bmi_category = \"Unknown\" if bmi_known else classify_input(bmi_value, bmi_config)\n",
        "    hypertension = 1 if hypertension else 0\n",
        "    heart_disease = 1 if heart_disease else 0\n",
        "\n",
        "    inputs = [age_category, glucose_category, bmi_category, hypertension, heart_disease]\n",
        "    r, p = get_stroke_risk(model, variables_to_use, inputs)\n",
        "    pf = \"{:.2%}\".format(p)\n",
        "\n",
        "    # Your prediction logic here\n",
        "    prediction_result = f\"You are{' ' if r == 1 else ' not '}at risk of a stroke.\"\n",
        "    desc = f\"{pf} of people with these characteristics suffered a stroke.\"\n",
        "\n",
        "    return prediction_result, desc\n",
        "\n",
        "with gr.Blocks() as app:\n",
        "    age = gr.Number(label=\"Age\")\n",
        "    avg_glucose_average = gr.Number(label=\"Average Glucose\")\n",
        "    bmi_value = gr.Number(label=\"Body Mass Index\", default=None)\n",
        "    bmi_known = gr.Checkbox(label=\"I don't know my BMI\")\n",
        "    hypertension = gr.Checkbox(label=\"Hypertension\")\n",
        "    heart_disease = gr.Checkbox(label=\"Heart Disease\")\n",
        "\n",
        "    output = [gr.Textbox(label=\"Stroke Prediction\"),\n",
        "              gr.Textbox(label=\"Description\")]\n",
        "\n",
        "    predict_btn = gr.Button(\"Predict\")\n",
        "    predict_btn.click(fn=predict_stroke, inputs=[age, avg_glucose_average, bmi_value, bmi_known, hypertension, heart_disease], outputs=output)\n",
        "\n",
        "app.launch(share=True)"
      ],
      "metadata": {
        "colab": {
          "base_uri": "https://localhost:8080/",
          "height": 646
        },
        "id": "XC0opseTGg62",
        "outputId": "90343c6f-5f20-40f1-ed7d-1bc042fff0d0"
      },
      "execution_count": 8,
      "outputs": [
        {
          "output_type": "stream",
          "name": "stderr",
          "text": [
            "<ipython-input-8-dcc042c880e7>:24: GradioUnusedKwargWarning: You have unused kwarg parameters in Number, please remove them: {'default': None}\n",
            "  bmi_value = gr.Number(label=\"Body Mass Index\", default=None)\n"
          ]
        },
        {
          "output_type": "stream",
          "name": "stdout",
          "text": [
            "Colab notebook detected. To show errors in colab notebook, set debug=True in launch()\n",
            "Running on public URL: https://0456000fc5022f84da.gradio.live\n",
            "\n",
            "This share link expires in 72 hours. For free permanent hosting and GPU upgrades, run `gradio deploy` from Terminal to deploy to Spaces (https://huggingface.co/spaces)\n"
          ]
        },
        {
          "output_type": "display_data",
          "data": {
            "text/plain": [
              "<IPython.core.display.HTML object>"
            ],
            "text/html": [
              "<div><iframe src=\"https://0456000fc5022f84da.gradio.live\" width=\"100%\" height=\"500\" allow=\"autoplay; camera; microphone; clipboard-read; clipboard-write;\" frameborder=\"0\" allowfullscreen></iframe></div>"
            ]
          },
          "metadata": {}
        },
        {
          "output_type": "execute_result",
          "data": {
            "text/plain": []
          },
          "metadata": {},
          "execution_count": 8
        }
      ]
    },
    {
      "cell_type": "code",
      "source": [],
      "metadata": {
        "id": "mGcFkwR2a8yM"
      },
      "execution_count": null,
      "outputs": []
    }
  ]
}